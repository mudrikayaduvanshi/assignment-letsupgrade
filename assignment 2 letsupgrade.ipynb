{
 "cells": [
  {
   "cell_type": "code",
   "execution_count": 2,
   "metadata": {},
   "outputs": [
    {
     "name": "stdout",
     "output_type": "stream",
     "text": [
      "['python', 'essential', 'program']\n"
     ]
    }
   ],
   "source": [
    "list1 = [ \"python\",\"essential\", [], \"program\"]\n",
    "list2 = []\n",
    "for value in list1:\n",
    "    if value!=[]:\n",
    "        list2.append(value)\n",
    "print(list2)\n"
   ]
  },
  {
   "cell_type": "code",
   "execution_count": 12,
   "metadata": {},
   "outputs": [
    {
     "name": "stdout",
     "output_type": "stream",
     "text": [
      "i have python essential course\n"
     ]
    }
   ],
   "source": [
    "\n",
    "if __name__ == \"__main__\": \n",
    "    input = \"i have python essential essential course\"\n",
    "    remov_duplicates(input) "
   ]
  },
  {
   "cell_type": "code",
   "execution_count": 19,
   "metadata": {},
   "outputs": [
    {
     "name": "stdout",
     "output_type": "stream",
     "text": [
      "Count of e in penellope is : 3\n"
     ]
    }
   ],
   "source": [
    "string = \"penellope\" \n",
    "count = 0\n",
    "  \n",
    "for i in string: \n",
    "    if i == 'e': \n",
    "        count = count + 1 \n",
    "print (\"Count of e in penellope is : \"\n",
    "                            +  str(count)) "
   ]
  },
  {
   "cell_type": "code",
   "execution_count": null,
   "metadata": {},
   "outputs": [],
   "source": []
  }
 ],
 "metadata": {
  "kernelspec": {
   "display_name": "Python 3",
   "language": "python",
   "name": "python3"
  },
  "language_info": {
   "codemirror_mode": {
    "name": "ipython",
    "version": 3
   },
   "file_extension": ".py",
   "mimetype": "text/x-python",
   "name": "python",
   "nbconvert_exporter": "python",
   "pygments_lexer": "ipython3",
   "version": "3.8.3"
  }
 },
 "nbformat": 4,
 "nbformat_minor": 4
}
