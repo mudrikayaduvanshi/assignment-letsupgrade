{
 "cells": [
  {
   "cell_type": "code",
   "execution_count": 3,
   "metadata": {},
   "outputs": [
    {
     "name": "stdout",
     "output_type": "stream",
     "text": [
      "11\n",
      "13\n",
      "17\n",
      "19\n",
      "23\n"
     ]
    }
   ],
   "source": [
    "start = 11\n",
    "end = 25\n",
    " \n",
    "for each in range(start,end):\n",
    "  if each>1:\n",
    "    for num in range(2,each):\n",
    "        if(each % num==0):\n",
    "            break\n",
    "    else:\n",
    "        print(each)"
   ]
  },
  {
   "cell_type": "code",
   "execution_count": 2,
   "metadata": {},
   "outputs": [
    {
     "name": "stdout",
     "output_type": "stream",
     "text": [
      "Enter a number: 8\n",
      "The factorial of 8 is 40320\n"
     ]
    }
   ],
   "source": [
    "num = int(input(\"Enter a number: \"))  \n",
    "factor = 1  \n",
    "if num < 0:  \n",
    "   print(\"Sorry, factorial does not exist\")  \n",
    "elif num == 0:  \n",
    "   print(\"The factorial is 1\")  \n",
    "else:  \n",
    "   for i in range(1,num + 1):  \n",
    "       factor = factor*i  \n",
    "   print(\"The factorial of\",num,\"is\",factor)  "
   ]
  },
  {
   "cell_type": "code",
   "execution_count": 3,
   "metadata": {},
   "outputs": [
    {
     "name": "stdout",
     "output_type": "stream",
     "text": [
      "Enter number 7\n",
      "The sum is 28\n"
     ]
    }
   ],
   "source": [
    "num = int(input(\"Enter number \"))  \n",
    "  \n",
    "if num < 0:  \n",
    "   print(\"Enter a positive number\")  \n",
    "else:  \n",
    "   sum = 0   \n",
    "   while(num > 0):  \n",
    "       sum += num  \n",
    "       num -= 1  \n",
    "   print(\"The sum is\",sum)  "
   ]
  },
  {
   "cell_type": "code",
   "execution_count": null,
   "metadata": {},
   "outputs": [],
   "source": []
  }
 ],
 "metadata": {
  "kernelspec": {
   "display_name": "Python 3",
   "language": "python",
   "name": "python3"
  },
  "language_info": {
   "codemirror_mode": {
    "name": "ipython",
    "version": 3
   },
   "file_extension": ".py",
   "mimetype": "text/x-python",
   "name": "python",
   "nbconvert_exporter": "python",
   "pygments_lexer": "ipython3",
   "version": "3.8.3"
  }
 },
 "nbformat": 4,
 "nbformat_minor": 4
}
